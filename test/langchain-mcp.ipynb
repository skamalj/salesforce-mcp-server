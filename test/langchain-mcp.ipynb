{
 "cells": [
  {
   "cell_type": "code",
   "execution_count": 1,
   "id": "529984e3",
   "metadata": {},
   "outputs": [],
   "source": [
    "from langchain_mcp_adapters.client import MultiServerMCPClient\n",
    "from langchain_core.messages import AIMessage, HumanMessage\n",
    "from langchain_core.tools import tool\n",
    "\n",
    "from langgraph.prebuilt import ToolNode"
   ]
  },
  {
   "cell_type": "code",
   "execution_count": 2,
   "id": "409f15d6",
   "metadata": {},
   "outputs": [],
   "source": [
    "from langchain_openai import ChatOpenAI\n",
    "model = ChatOpenAI(model=\"gpt-4o\")"
   ]
  },
  {
   "cell_type": "code",
   "execution_count": null,
   "id": "d9ca70ff",
   "metadata": {},
   "outputs": [],
   "source": [
    "import os\n",
    "mcpurl = \"http://13.201.22.227:8000/mcp\""
   ]
  },
  {
   "cell_type": "code",
   "execution_count": 11,
   "id": "16503e30",
   "metadata": {},
   "outputs": [
    {
     "name": "stdout",
     "output_type": "stream",
     "text": [
      "[StructuredTool(name='generate_salesforce_oauth_url', description='\\n    Generates a Salesforce OAuth2 authorization URL using values from environment variables\\n    and a provided profile_id.\\n    \\n    Env Variables:\\n    - SALESFORCE_DOMAIN\\n    - SALESFORCE_CLIENT_ID\\n    - SALESFORCE_REDIRECT_URI\\n    \\n    Args:\\n        profile_id (str): The user profile ID to be passed in the state parameter.\\n    \\n    Returns:\\n        str: Complete Salesforce OAuth2 URL.\\n    ', args_schema={'properties': {'profile_id': {'title': 'Profile Id', 'type': 'string'}}, 'required': ['profile_id'], 'title': 'generate_salesforce_oauth_urlArguments', 'type': 'object'}, response_format='content_and_artifact', coroutine=<function convert_mcp_tool_to_langchain_tool.<locals>.call_tool at 0x7fc98d9e2e60>), StructuredTool(name='execute_salesforce_soql', description=\"\\n    Executes a SOQL query against Salesforce using credentials fetched from DynamoDB.\\n\\n    Args:\\n        soql_query (str): The SOQL query to execute.\\n        profile_id (str): The wa_id used to look up Salesforce credentials in DynamoDB.\\n\\n    DynamoDB Table Schema (per item):\\n        - wa_id (str): Primary key\\n        - access_token (str)\\n        - instance_url (str)\\n        - refresh_token (str, optional)\\n        - issued_at (int, optional)\\n\\n    Required environment variables:\\n        - SF_DDB_TABLE: Name of the DynamoDB table\\n        - SF_API_VERSION: Optional, defaults to 'v60.0'\\n\\n    Returns:\\n        List[dict]: Records from the query result.\\n\\n    Raises:\\n        Exception: If credentials are missing or query fails.\\n    \", args_schema={'properties': {'soql_query': {'title': 'Soql Query', 'type': 'string'}, 'profile_id': {'title': 'Profile Id', 'type': 'string'}}, 'required': ['soql_query', 'profile_id'], 'title': 'execute_salesforce_soqlArguments', 'type': 'object'}, response_format='content_and_artifact', coroutine=<function convert_mcp_tool_to_langchain_tool.<locals>.call_tool at 0x7fc98d9e2dd0>), StructuredTool(name='execute_salesforce_rest', description='\\n    Create or update a Salesforce object.\\n\\n    Args:\\n        object_type (str): Salesforce object name (e.g., \"Opportunity\", \"Account\").\\n        operation (str): One of \"create\" or \"update\".\\n        data (dict): Fields and values to set.\\n        profile_id (str): wa_id to look up Salesforce credentials.\\n        record_id (str, optional): Required for update operation.\\n\\n    Returns:\\n        dict: Salesforce API response.\\n\\n    Raises:\\n        Exception: On credential or API failure.\\n    ', args_schema={'properties': {'object_type': {'title': 'Object Type', 'type': 'string'}, 'operation': {'enum': ['create', 'update'], 'title': 'Operation', 'type': 'string'}, 'data': {'additionalProperties': True, 'title': 'Data', 'type': 'object'}, 'profile_id': {'title': 'Profile Id', 'type': 'string'}, 'record_id': {'anyOf': [{'type': 'string'}, {'type': 'null'}], 'default': None, 'title': 'Record Id'}}, 'required': ['object_type', 'operation', 'data', 'profile_id'], 'title': 'execute_salesforce_restArguments', 'type': 'object'}, response_format='content_and_artifact', coroutine=<function convert_mcp_tool_to_langchain_tool.<locals>.call_tool at 0x7fc98d9e2d40>), StructuredTool(name='send_whatsapp_message', description=\"\\n    Sends a WhatsApp message using the Meta API.\\n\\n    :param recipient: The recipient's phone number.\\n    :return: The JSON response from the API call.\\n    \", args_schema={'properties': {'recipient': {'title': 'recipient', 'type': 'string'}, 'message': {'title': 'message', 'type': 'string'}}, 'required': ['recipient', 'message'], 'title': 'send_whatsapp_messageArguments', 'type': 'object'}, response_format='content_and_artifact', coroutine=<function convert_mcp_tool_to_langchain_tool.<locals>.call_tool at 0x7fc98d9e2ef0>), StructuredTool(name='send_email_via_ses', description='\\n    Sends an email using AWS SES.\\n\\n    Expected JSON format:\\n    {\\n        \"to_email\": \"recipient@example.com\",\\n        \"subject\": \"Subject Line\",\\n        \"body\": \"Email body content\",\\n        \"is_html\": false  # Set to true to enable HTML formatting for a better-looking report\\n    }\\n\\n    Note:\\n    For visually appealing, well-formatted reports (e.g., tables, styled text), set \"is_html\" to true and use HTML in the \"body\".\\n\\n    :param email_json: JSON string containing email details.\\n    :return: Response message indicating success or failure.\\n    ', args_schema={'properties': {'email_json': {'title': 'Email Json', 'type': 'string'}}, 'required': ['email_json'], 'title': 'send_email_via_sesArguments', 'type': 'object'}, response_format='content_and_artifact', coroutine=<function convert_mcp_tool_to_langchain_tool.<locals>.call_tool at 0x7fc98d9e2170>), StructuredTool(name='get_weather', description='Call to get the current weather.', args_schema={'properties': {'location': {'title': 'Location', 'type': 'string'}}, 'required': ['location'], 'title': 'get_weatherArguments', 'type': 'object'}, response_format='content_and_artifact', coroutine=<function convert_mcp_tool_to_langchain_tool.<locals>.call_tool at 0x7fc98d9e2f80>), StructuredTool(name='get_coolest_cities', description='Get a list of coolest cities', args_schema={'properties': {}, 'title': 'get_coolest_citiesArguments', 'type': 'object'}, response_format='content_and_artifact', coroutine=<function convert_mcp_tool_to_langchain_tool.<locals>.call_tool at 0x7fc98d9e3010>)]\n",
      "{'messages': [HumanMessage(content=\"what's the weather in sf?\", additional_kwargs={}, response_metadata={}, id='9e410119-c980-408d-8579-dc44dc7ad2b6'), AIMessage(content='', additional_kwargs={'tool_calls': [{'id': 'call_HM1LsDiNlbwCNOWIc42mcE2w', 'function': {'arguments': '{\"location\":\"San Francisco, CA\"}', 'name': 'get_weather'}, 'type': 'function'}], 'refusal': None}, response_metadata={'token_usage': {'completion_tokens': 18, 'prompt_tokens': 664, 'total_tokens': 682, 'completion_tokens_details': {'accepted_prediction_tokens': 0, 'audio_tokens': 0, 'reasoning_tokens': 0, 'rejected_prediction_tokens': 0}, 'prompt_tokens_details': {'audio_tokens': 0, 'cached_tokens': 0}}, 'model_name': 'gpt-4o-2024-08-06', 'system_fingerprint': 'fp_90122d973c', 'finish_reason': 'tool_calls', 'logprobs': None}, id='run-acf38971-e06c-45fe-8307-c814d7db723c-0', tool_calls=[{'name': 'get_weather', 'args': {'location': 'San Francisco, CA'}, 'id': 'call_HM1LsDiNlbwCNOWIc42mcE2w', 'type': 'tool_call'}], usage_metadata={'input_tokens': 664, 'output_tokens': 18, 'total_tokens': 682, 'input_token_details': {'audio': 0, 'cache_read': 0}, 'output_token_details': {'audio': 0, 'reasoning': 0}}), ToolMessage(content=\"It's 90 degrees and sunny.\", name='get_weather', id='60f45ef7-54f1-41dc-8e9c-bef0180f6064', tool_call_id='call_HM1LsDiNlbwCNOWIc42mcE2w'), AIMessage(content='The weather in San Francisco is currently 90 degrees and sunny.', additional_kwargs={'refusal': None}, response_metadata={'token_usage': {'completion_tokens': 15, 'prompt_tokens': 696, 'total_tokens': 711, 'completion_tokens_details': {'accepted_prediction_tokens': 0, 'audio_tokens': 0, 'reasoning_tokens': 0, 'rejected_prediction_tokens': 0}, 'prompt_tokens_details': {'audio_tokens': 0, 'cached_tokens': 0}}, 'model_name': 'gpt-4o-2024-08-06', 'system_fingerprint': 'fp_f5bdcc3276', 'finish_reason': 'stop', 'logprobs': None}, id='run-decfbcf6-6d4d-481b-94a8-ad9b07b0812c-0', usage_metadata={'input_tokens': 696, 'output_tokens': 15, 'total_tokens': 711, 'input_token_details': {'audio': 0, 'cache_read': 0}, 'output_token_details': {'audio': 0, 'reasoning': 0}})]}\n"
     ]
    }
   ],
   "source": [
    "\n",
    "from mcp import ClientSession\n",
    "from mcp.client.streamable_http import streamablehttp_client\n",
    "\n",
    "from langgraph.prebuilt import create_react_agent\n",
    "from langchain_mcp_adapters.tools import load_mcp_tools\n",
    "\n",
    "async with streamablehttp_client(\"http://13.232.211.169:8000/mcp/\") as (read, write, _):\n",
    "    async with ClientSession(read, write) as client:\n",
    "        # Initialize the connection\n",
    "        await client.initialize()\n",
    "        tools = await load_mcp_tools(client)\n",
    "        print(tools)\n",
    "        model_with_tools = model.bind_tools(tools)\n",
    "        tools_node = ToolNode(tools=tools)\n",
    "        app = create_graph(model_with_tools, tools_node)\n",
    "        print(await app.ainvoke({\"messages\": [{\"role\": \"user\", \"content\": \"what's the weather in sf?\"}]}))\n"
   ]
  },
  {
   "cell_type": "code",
   "execution_count": 3,
   "id": "8265b332",
   "metadata": {},
   "outputs": [],
   "source": [
    "from typing import Literal\n",
    "\n",
    "from langgraph.graph import StateGraph, MessagesState, START, END\n",
    "\n",
    "def create_graph(model_with_tools, tool_node):\n",
    "    def should_continue(state: MessagesState):\n",
    "        messages = state[\"messages\"]\n",
    "        last_message = messages[-1]\n",
    "        if last_message.tool_calls:\n",
    "            return \"tools\"\n",
    "        return END\n",
    "\n",
    "\n",
    "    async def call_model(state: MessagesState):\n",
    "        messages = state[\"messages\"]\n",
    "        response = await model_with_tools.ainvoke(messages)\n",
    "        return {\"messages\": [response]}\n",
    "\n",
    "\n",
    "    workflow = StateGraph(MessagesState)\n",
    "\n",
    "    # Define the two nodes we will cycle between\n",
    "    workflow.add_node(\"agent\", call_model)\n",
    "    workflow.add_node(\"tools\", tool_node)\n",
    "\n",
    "    workflow.add_edge(START, \"agent\")\n",
    "    workflow.add_conditional_edges(\"agent\", should_continue, [\"tools\", END])\n",
    "    workflow.add_edge(\"tools\", \"agent\")\n",
    "\n",
    "    app = workflow.compile()\n",
    "    return app"
   ]
  }
 ],
 "metadata": {
  "kernelspec": {
   "display_name": "langgraph",
   "language": "python",
   "name": "python3"
  },
  "language_info": {
   "codemirror_mode": {
    "name": "ipython",
    "version": 3
   },
   "file_extension": ".py",
   "mimetype": "text/x-python",
   "name": "python",
   "nbconvert_exporter": "python",
   "pygments_lexer": "ipython3",
   "version": "3.10.16"
  }
 },
 "nbformat": 4,
 "nbformat_minor": 5
}
